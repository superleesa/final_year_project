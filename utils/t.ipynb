{
 "cells": [
  {
   "cell_type": "code",
   "execution_count": 1,
   "metadata": {},
   "outputs": [
    {
     "name": "stderr",
     "output_type": "stream",
     "text": [
      "/Users/sho/anaconda3/envs/fyp/lib/python3.10/site-packages/torchvision/transforms/v2/_deprecated.py:41: UserWarning: The transform `ToTensor()` is deprecated and will be removed in a future release. Instead, please use `v2.Compose([v2.ToImage(), v2.ToDtype(torch.float32, scale=True)])`.\n",
      "  warnings.warn(\n"
     ]
    }
   ],
   "source": [
    "from preprocess import create_train_and_validation_datasets"
   ]
  },
  {
   "cell_type": "code",
   "execution_count": 2,
   "metadata": {},
   "outputs": [],
   "source": [
    "import matplotlib.pyplot as plt \n",
    "import torch\n",
    "import numpy as np"
   ]
  },
  {
   "cell_type": "code",
   "execution_count": 6,
   "metadata": {},
   "outputs": [],
   "source": [
    "dataset_path = \"/Users/sho/Monash/FYP/final_year_project/Data/Synthetic_images/\"\n"
   ]
  },
  {
   "cell_type": "code",
   "execution_count": 10,
   "metadata": {},
   "outputs": [
    {
     "data": {
      "text/plain": [
       "([<preprocess.PairedDataset at 0x10622a830>],\n",
       " [<preprocess.PairedDataset at 0x178ee3040>])"
      ]
     },
     "execution_count": 10,
     "metadata": {},
     "output_type": "execute_result"
    }
   ],
   "source": [
    "dataset = create_train_and_validation_datasets(dataset_path, train_ratio=0.7)\n",
    "dataset"
   ]
  },
  {
   "cell_type": "code",
   "execution_count": 21,
   "metadata": {},
   "outputs": [],
   "source": [
    "def plot_images(noisy, gt):\n",
    "    print('-----------------------------------')\n",
    "    noisy_np = noisy.numpy()\n",
    "    noisy_np = np.transpose(noisy_np, (1, 2, 0))\n",
    "    plt.imshow(noisy_np)\n",
    "    plt.show()\n",
    "    print('-----------------------------------')\n",
    "    gt_np = gt.numpy()\n",
    "    gt_np = np.transpose(gt_np, (1, 2, 0))\n",
    "    plt.imshow(gt_np)\n",
    "    plt.show()"
   ]
  },
  {
   "cell_type": "code",
   "execution_count": 13,
   "metadata": {},
   "outputs": [
    {
     "data": {
      "text/plain": [
       "350"
      ]
     },
     "execution_count": 13,
     "metadata": {},
     "output_type": "execute_result"
    }
   ],
   "source": [
    "\n",
    "len(dataset[0][0])"
   ]
  },
  {
   "cell_type": "code",
   "execution_count": 28,
   "metadata": {},
   "outputs": [
    {
     "name": "stdout",
     "output_type": "stream",
     "text": [
      "-----------------------------------\n"
     ]
    },
    {
     "ename": "AttributeError",
     "evalue": "'numpy.ndarray' object has no attribute 'numpy'",
     "output_type": "error",
     "traceback": [
      "\u001b[0;31m---------------------------------------------------------------------------\u001b[0m",
      "\u001b[0;31mAttributeError\u001b[0m                            Traceback (most recent call last)",
      "Cell \u001b[0;32mIn[28], line 1\u001b[0m\n\u001b[0;32m----> 1\u001b[0m \u001b[43mplot_images\u001b[49m\u001b[43m(\u001b[49m\u001b[43mn\u001b[49m\u001b[43m,\u001b[49m\u001b[43mg\u001b[49m\u001b[43m)\u001b[49m\n",
      "Cell \u001b[0;32mIn[27], line 8\u001b[0m, in \u001b[0;36mplot_images\u001b[0;34m(noisy, gt)\u001b[0m\n\u001b[1;32m      5\u001b[0m \u001b[38;5;28mprint\u001b[39m(\u001b[38;5;124m'\u001b[39m\u001b[38;5;124m-----------------------------------\u001b[39m\u001b[38;5;124m'\u001b[39m)\n\u001b[1;32m      6\u001b[0m \u001b[38;5;28;01mfor\u001b[39;00m noisy_img, gt_img \u001b[38;5;129;01min\u001b[39;00m \u001b[38;5;28mzip\u001b[39m(noisy, gt):\n\u001b[1;32m      7\u001b[0m     \u001b[38;5;66;03m# Convert noisy image tensor to numpy array and transpose it\u001b[39;00m\n\u001b[0;32m----> 8\u001b[0m     noisy_np \u001b[38;5;241m=\u001b[39m \u001b[43mnoisy_img\u001b[49m\u001b[38;5;241;43m.\u001b[39;49m\u001b[43mnumpy\u001b[49m()\n\u001b[1;32m      9\u001b[0m     noisy_np \u001b[38;5;241m=\u001b[39m np\u001b[38;5;241m.\u001b[39mtranspose(noisy_np, (\u001b[38;5;241m1\u001b[39m, \u001b[38;5;241m2\u001b[39m, \u001b[38;5;241m0\u001b[39m))\n\u001b[1;32m     11\u001b[0m     \u001b[38;5;66;03m# Convert ground truth image tensor to numpy array and transpose it\u001b[39;00m\n",
      "\u001b[0;31mAttributeError\u001b[0m: 'numpy.ndarray' object has no attribute 'numpy'"
     ]
    }
   ],
   "source": []
  },
  {
   "cell_type": "code",
   "execution_count": 27,
   "metadata": {},
   "outputs": [],
   "source": [
    "import numpy as np\n",
    "import matplotlib.pyplot as plt\n",
    "\n",
    "def plot_images(noisy, gt):\n",
    "    print('-----------------------------------')\n",
    "    for noisy_img, gt_img in zip(noisy, gt):\n",
    "        # Convert noisy image tensor to numpy array and transpose it\n",
    "        noisy_np = noisy_img.numpy()\n",
    "        noisy_np = np.transpose(noisy_np, (1, 2, 0))\n",
    "        \n",
    "        # Convert ground truth image tensor to numpy array and transpose it\n",
    "        gt_np = gt_img.numpy()\n",
    "        gt_np = np.transpose(gt_np, (1, 2, 0))\n",
    "        \n",
    "        # Plot noisy image\n",
    "        plt.imshow(noisy_np)\n",
    "        plt.title(\"Noisy Image\")\n",
    "        plt.show()\n",
    "        \n",
    "        # Plot ground truth image\n",
    "        plt.imshow(gt_np)\n",
    "        plt.title(\"Ground Truth Image\")\n",
    "        plt.show()\n"
   ]
  }
 ],
 "metadata": {
  "kernelspec": {
   "display_name": "fyp",
   "language": "python",
   "name": "python3"
  },
  "language_info": {
   "codemirror_mode": {
    "name": "ipython",
    "version": 3
   },
   "file_extension": ".py",
   "mimetype": "text/x-python",
   "name": "python",
   "nbconvert_exporter": "python",
   "pygments_lexer": "ipython3",
   "version": "3.10.0"
  }
 },
 "nbformat": 4,
 "nbformat_minor": 2
}
