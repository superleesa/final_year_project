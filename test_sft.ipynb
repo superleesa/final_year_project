{
 "cells": [
  {
   "cell_type": "code",
   "execution_count": 1,
   "metadata": {},
   "outputs": [],
   "source": [
    "from train.sft.toenet_base.train import train\n",
    "from utils import preprocess\n",
    "import os\n",
    "import torch\n",
    "from torch.utils.data import DataLoader\n",
    "from PIL import Image\n",
    "import os\n",
    "import matplotlib.pyplot as plt\n",
    "from pathlib import Path\n",
    "#from validate import validate\n",
    "from utils.preprocess import create_dataset"
   ]
  },
  {
   "cell_type": "code",
   "execution_count": 2,
   "metadata": {},
   "outputs": [
    {
     "name": "stdout",
     "output_type": "stream",
     "text": [
      "['189.jpg', '162.jpg', '176.jpg', '348.jpg', '360.jpg', '406.jpg', '412.jpg', '374.jpg', '228.jpg', '214.jpg', '200.jpg', '016.jpg', '002.jpg', '003.jpg', '017.jpg', '201.jpg', '215.jpg', '229.jpg', '413.jpg', '375.jpg', '361.jpg', '407.jpg', '349.jpg', '177.jpg', '163.jpg', '188.jpg', '149.jpg', '175.jpg', '161.jpg', '388.jpg', '439.jpg', '377.jpg', '411.jpg', '405.jpg', '363.jpg', '203.jpg', '217.jpg', '029.jpg', '001.jpg', '015.jpg', '014.jpg', '028.jpg', '216.jpg', '202.jpg', '404.jpg', '362.jpg', '376.jpg', '410.jpg', '438.jpg', '389.jpg', '160.jpg', '174.jpg', '148.jpg', '170.jpg', '164.jpg', '158.jpg', '399.jpg', '414.jpg', '372.jpg', '366.jpg', '400.jpg', '428.jpg', '206.jpg', '212.jpg', '004.jpg', '010.jpg', '038.jpg', '039.jpg', '011.jpg', '005.jpg', '213.jpg', '207.jpg', '429.jpg', '367.jpg', '401.jpg', '415.jpg', '373.jpg', '398.jpg', '159.jpg', '165.jpg', '171.jpg', '198.jpg', '167.jpg', '173.jpg', '403.jpg', '365.jpg', '371.jpg', '417.jpg', '359.jpg', '211.jpg', '205.jpg', '239.jpg', '013.jpg', '007.jpg', '006.jpg', '012.jpg', '238.jpg', '204.jpg', '210.jpg', '358.jpg', '370.jpg', '416.jpg', '402.jpg', '364.jpg', '172.jpg', '166.jpg', '199.jpg', '129.jpg', '101.jpg', '115.jpg', '459.jpg', '465.jpg', '303.jpg', '317.jpg', '471.jpg', '288.jpg', '277.jpg', '263.jpg', '049.jpg', '075.jpg', '061.jpg', '060.jpg', '074.jpg', '048.jpg', '262.jpg', '276.jpg', '289.jpg', '316.jpg', '470.jpg', '464.jpg', '302.jpg', '458.jpg', '114.jpg', '100.jpg', '128.jpg', '116.jpg', '102.jpg', '499.jpg', '328.jpg', '472.jpg', '314.jpg', '300.jpg', '466.jpg', '248.jpg', '260.jpg', '274.jpg', '089.jpg', '062.jpg', '076.jpg', '077.jpg', '063.jpg', '088.jpg', '275.jpg', '261.jpg', '249.jpg', '301.jpg', '467.jpg', '473.jpg', '315.jpg', '329.jpg', '498.jpg', '103.jpg', '117.jpg', '113.jpg', '107.jpg', '488.jpg', '311.jpg', '477.jpg', '463.jpg', '305.jpg', '339.jpg', '265.jpg', '271.jpg', '259.jpg', '098.jpg', '067.jpg', '073.jpg', '072.jpg', '066.jpg', '099.jpg', '258.jpg', '270.jpg', '264.jpg', '338.jpg', '462.jpg', '304.jpg', '310.jpg', '476.jpg', '489.jpg', '106.jpg', '112.jpg', '104.jpg', '110.jpg', '138.jpg', '306.jpg', '460.jpg', '474.jpg', '312.jpg', '448.jpg', '299.jpg', '272.jpg', '500.jpg', '266.jpg', '070.jpg', '064.jpg', '058.jpg', '059.jpg', '065.jpg', '071.jpg', '267.jpg', '273.jpg', '298.jpg', '449.jpg', '475.jpg', '313.jpg', '307.jpg', '461.jpg', '139.jpg', '111.jpg', '105.jpg', '108.jpg', '120.jpg', '134.jpg', '487.jpg', '493.jpg', '478.jpg', '444.jpg', '322.jpg', '336.jpg', '450.jpg', '295.jpg', '281.jpg', '256.jpg', '242.jpg', '097.jpg', '083.jpg', '068.jpg', '054.jpg', '040.jpg', '041.jpg', '055.jpg', '069.jpg', '082.jpg', '096.jpg', '243.jpg', '257.jpg', '280.jpg', '294.jpg', '337.jpg', '451.jpg', '445.jpg', '323.jpg', '479.jpg', '492.jpg', '486.jpg', '135.jpg', '121.jpg', '109.jpg', '137.jpg', '123.jpg', '490.jpg', '484.jpg', '309.jpg', '453.jpg', '335.jpg', '321.jpg', '447.jpg', '282.jpg', '296.jpg', '269.jpg', '241.jpg', '255.jpg', '080.jpg', '094.jpg', '043.jpg', '057.jpg', '056.jpg', '042.jpg', '095.jpg', '081.jpg', '254.jpg', '240.jpg', '268.jpg', '297.jpg', '283.jpg', '320.jpg', '446.jpg', '452.jpg', '334.jpg', '308.jpg', '485.jpg', '491.jpg', '122.jpg', '136.jpg', '132.jpg', '126.jpg', '495.jpg', '481.jpg', '330.jpg', '456.jpg', '442.jpg', '324.jpg', '318.jpg', '287.jpg', '293.jpg', '244.jpg', '250.jpg', '278.jpg', '085.jpg', '091.jpg', '046.jpg', '052.jpg', '053.jpg', '047.jpg', '090.jpg', '084.jpg', '279.jpg', '251.jpg', '245.jpg', '292.jpg', '286.jpg', '319.jpg', '443.jpg', '325.jpg', '331.jpg', '457.jpg', '480.jpg', '494.jpg', '127.jpg', '133.jpg', '125.jpg', '131.jpg', '119.jpg', '482.jpg', '496.jpg', '327.jpg', '441.jpg', '455.jpg', '333.jpg', '469.jpg', '290.jpg', '284.jpg', '253.jpg', '247.jpg', '092.jpg', '086.jpg', '051.jpg', '045.jpg', '079.jpg', '078.jpg', '044.jpg', '050.jpg', '087.jpg', '093.jpg', '246.jpg', '252.jpg', '285.jpg', '291.jpg', '468.jpg', '454.jpg', '332.jpg', '326.jpg', '440.jpg', '497.jpg', '483.jpg', '118.jpg', '130.jpg', '124.jpg', '180.jpg', '194.jpg', '143.jpg', '157.jpg', '382.jpg', '396.jpg', '369.jpg', '341.jpg', '427.jpg', '433.jpg', '355.jpg', '209.jpg', '235.jpg', '221.jpg', '037.jpg', '023.jpg', '022.jpg', '036.jpg', '220.jpg', '234.jpg', '208.jpg', '432.jpg', '354.jpg', '340.jpg', '426.jpg', '368.jpg', '397.jpg', '383.jpg', '156.jpg', '142.jpg', '195.jpg', '181.jpg', '197.jpg', '183.jpg', '168.jpg', '154.jpg', '140.jpg', '395.jpg', '381.jpg', '418.jpg', '356.jpg', '430.jpg', '424.jpg', '342.jpg', '222.jpg', '236.jpg', '008.jpg', '020.jpg', '034.jpg', '035.jpg', '021.jpg', '009.jpg', '237.jpg', '223.jpg', '425.jpg', '343.jpg', '357.jpg', '431.jpg', '419.jpg', '380.jpg', '394.jpg', '141.jpg', '155.jpg', '169.jpg', '182.jpg', '196.jpg', '192.jpg', '186.jpg', '151.jpg', '145.jpg', '179.jpg', '390.jpg', '384.jpg', '435.jpg', '353.jpg', '347.jpg', '421.jpg', '409.jpg', '227.jpg', '233.jpg', '025.jpg', '031.jpg', '019.jpg', '018.jpg', '030.jpg', '024.jpg', '232.jpg', '226.jpg', '408.jpg', '346.jpg', '420.jpg', '434.jpg', '352.jpg', '385.jpg', '391.jpg', '178.jpg', '144.jpg', '150.jpg', '187.jpg', '193.jpg', '185.jpg', '191.jpg', '146.jpg', '152.jpg', '387.jpg', '393.jpg', '422.jpg', '344.jpg', '350.jpg', '436.jpg', '378.jpg', '230.jpg', '224.jpg', '218.jpg', '032.jpg', '026.jpg', '027.jpg', '033.jpg', '219.jpg', '225.jpg', '231.jpg', '379.jpg', '351.jpg', '437.jpg', '423.jpg', '345.jpg', '392.jpg', '386.jpg', '153.jpg', '147.jpg', '190.jpg', '184.jpg']\n",
      "['189.jpg', '162.jpg', '176.jpg', '348.jpg', '360.jpg', '406.jpg', '412.jpg', '374.jpg', '228.jpg', '214.jpg', '200.jpg', '016.jpg', '002.jpg', '003.jpg', '017.jpg', '201.jpg', '215.jpg', '229.jpg', '413.jpg', '375.jpg', '361.jpg', '407.jpg', '349.jpg', '177.jpg', '163.jpg', '188.jpg', '149.jpg', '175.jpg', '161.jpg', '388.jpg', '439.jpg', '377.jpg', '411.jpg', '405.jpg', '363.jpg', '203.jpg', '217.jpg', '029.jpg', '001.jpg', '015.jpg', '014.jpg', '028.jpg', '216.jpg', '202.jpg', '404.jpg', '362.jpg', '376.jpg', '410.jpg', '438.jpg', '389.jpg', '160.jpg', '174.jpg', '148.jpg', '170.jpg', '164.jpg', '158.jpg', '399.jpg', '414.jpg', '372.jpg', '366.jpg', '400.jpg', '428.jpg', '206.jpg', '212.jpg', '004.jpg', '010.jpg', '038.jpg', '039.jpg', '011.jpg', '005.jpg', '213.jpg', '207.jpg', '429.jpg', '367.jpg', '401.jpg', '415.jpg', '373.jpg', '398.jpg', '159.jpg', '165.jpg', '171.jpg', '198.jpg', '167.jpg', '173.jpg', '403.jpg', '365.jpg', '371.jpg', '417.jpg', '359.jpg', '211.jpg', '205.jpg', '239.jpg', '013.jpg', '007.jpg', '006.jpg', '012.jpg', '238.jpg', '204.jpg', '210.jpg', '358.jpg', '370.jpg', '416.jpg', '402.jpg', '364.jpg', '172.jpg', '166.jpg', '199.jpg', '129.jpg', '101.jpg', '115.jpg', '459.jpg', '465.jpg', '303.jpg', '317.jpg', '471.jpg', '288.jpg', '277.jpg', '263.jpg', '049.jpg', '075.jpg', '061.jpg', '060.jpg', '074.jpg', '048.jpg', '262.jpg', '276.jpg', '289.jpg', '316.jpg', '470.jpg', '464.jpg', '302.jpg', '458.jpg', '114.jpg', '100.jpg', '128.jpg', '116.jpg', '102.jpg', '499.jpg', '328.jpg', '472.jpg', '314.jpg', '300.jpg', '466.jpg', '248.jpg', '260.jpg', '274.jpg', '089.jpg', '062.jpg', '076.jpg', '077.jpg', '063.jpg', '088.jpg', '275.jpg', '261.jpg', '249.jpg', '301.jpg', '467.jpg', '473.jpg', '315.jpg', '329.jpg', '498.jpg', '103.jpg', '117.jpg', '113.jpg', '107.jpg', '488.jpg', '311.jpg', '477.jpg', '463.jpg', '305.jpg', '339.jpg', '265.jpg', '271.jpg', '259.jpg', '098.jpg', '067.jpg', '073.jpg', '072.jpg', '066.jpg', '099.jpg', '258.jpg', '270.jpg', '264.jpg', '338.jpg', '462.jpg', '304.jpg', '310.jpg', '476.jpg', '489.jpg', '106.jpg', '112.jpg', '104.jpg', '110.jpg', '138.jpg', '306.jpg', '460.jpg', '474.jpg', '312.jpg', '448.jpg', '299.jpg', '272.jpg', '500.jpg', '266.jpg', '070.jpg', '064.jpg', '058.jpg', '059.jpg', '065.jpg', '071.jpg', '267.jpg', '273.jpg', '298.jpg', '449.jpg', '475.jpg', '313.jpg', '307.jpg', '461.jpg', '139.jpg', '111.jpg', '105.jpg', '108.jpg', '120.jpg', '134.jpg', '487.jpg', '493.jpg', '478.jpg', '444.jpg', '322.jpg', '336.jpg', '450.jpg', '295.jpg', '281.jpg', '256.jpg', '242.jpg', '097.jpg', '083.jpg', '068.jpg', '054.jpg', '040.jpg', '041.jpg', '055.jpg', '069.jpg', '082.jpg', '096.jpg', '243.jpg', '257.jpg', '280.jpg', '294.jpg', '337.jpg', '451.jpg', '445.jpg', '323.jpg', '479.jpg', '492.jpg', '486.jpg', '135.jpg', '121.jpg', '109.jpg', '137.jpg', '123.jpg', '490.jpg', '484.jpg', '309.jpg', '453.jpg', '335.jpg', '321.jpg', '447.jpg', '282.jpg', '296.jpg', '269.jpg', '241.jpg', '255.jpg', '080.jpg', '094.jpg', '043.jpg', '057.jpg', '056.jpg', '042.jpg', '095.jpg', '081.jpg', '254.jpg', '240.jpg', '268.jpg', '297.jpg', '283.jpg', '320.jpg', '446.jpg', '452.jpg', '334.jpg', '308.jpg', '485.jpg', '491.jpg', '122.jpg', '136.jpg', '132.jpg', '126.jpg', '495.jpg', '481.jpg', '330.jpg', '456.jpg', '442.jpg', '324.jpg', '318.jpg', '287.jpg', '293.jpg', '244.jpg', '250.jpg', '278.jpg', '085.jpg', '091.jpg', '046.jpg', '052.jpg', '053.jpg', '047.jpg', '090.jpg', '084.jpg', '279.jpg', '251.jpg', '245.jpg', '292.jpg', '286.jpg', '319.jpg', '443.jpg', '325.jpg', '331.jpg', '457.jpg', '480.jpg', '494.jpg', '127.jpg', '133.jpg', '125.jpg', '131.jpg', '119.jpg', '482.jpg', '496.jpg', '327.jpg', '441.jpg', '455.jpg', '333.jpg', '469.jpg', '290.jpg', '284.jpg', '253.jpg', '247.jpg', '092.jpg', '086.jpg', '051.jpg', '045.jpg', '079.jpg', '078.jpg', '044.jpg', '050.jpg', '087.jpg', '093.jpg', '246.jpg', '252.jpg', '285.jpg', '291.jpg', '468.jpg', '454.jpg', '332.jpg', '326.jpg', '440.jpg', '497.jpg', '483.jpg', '118.jpg', '130.jpg', '124.jpg', '180.jpg', '194.jpg', '143.jpg', '157.jpg', '382.jpg', '396.jpg', '369.jpg', '341.jpg', '427.jpg', '433.jpg', '355.jpg', '209.jpg', '235.jpg', '221.jpg', '037.jpg', '023.jpg', '022.jpg', '036.jpg', '220.jpg', '234.jpg', '208.jpg', '432.jpg', '354.jpg', '340.jpg', '426.jpg', '368.jpg', '397.jpg', '383.jpg', '156.jpg', '142.jpg', '195.jpg', '181.jpg', '197.jpg', '183.jpg', '168.jpg', '154.jpg', '140.jpg', '395.jpg', '381.jpg', '418.jpg', '356.jpg', '430.jpg', '424.jpg', '342.jpg', '222.jpg', '236.jpg', '008.jpg', '020.jpg', '034.jpg', '035.jpg', '021.jpg', '009.jpg', '237.jpg', '223.jpg', '425.jpg', '343.jpg', '357.jpg', '431.jpg', '419.jpg', '380.jpg', '394.jpg', '141.jpg', '155.jpg', '169.jpg', '182.jpg', '196.jpg', '192.jpg', '186.jpg', '151.jpg', '145.jpg', '179.jpg', '390.jpg', '384.jpg', '435.jpg', '353.jpg', '347.jpg', '421.jpg', '409.jpg', '227.jpg', '233.jpg', '025.jpg', '031.jpg', '019.jpg', '018.jpg', '030.jpg', '024.jpg', '232.jpg', '226.jpg', '408.jpg', '346.jpg', '420.jpg', '434.jpg', '352.jpg', '385.jpg', '391.jpg', '178.jpg', '144.jpg', '150.jpg', '187.jpg', '193.jpg', '185.jpg', '191.jpg', '146.jpg', '152.jpg', '387.jpg', '393.jpg', '422.jpg', '344.jpg', '350.jpg', '436.jpg', '378.jpg', '230.jpg', '224.jpg', '218.jpg', '032.jpg', '026.jpg', '027.jpg', '033.jpg', '219.jpg', '225.jpg', '231.jpg', '379.jpg', '351.jpg', '437.jpg', '423.jpg', '345.jpg', '392.jpg', '386.jpg', '153.jpg', '147.jpg', '190.jpg', '184.jpg']\n"
     ]
    }
   ],
   "source": [
    "dataset_path = \"/Users/sho/Monash/FYP/final_year_project/Data/Synthetic_images/\"\n",
    "save_dir = \"/Users/sho/Monash/FYP/final_year_project/Data/output/base_toenet_on_sie\"\n",
    "dataset = create_dataset(dataset_path, save_dir, True)\n",
    "dataset"
   ]
  },
  {
   "cell_type": "code",
   "execution_count": 9,
   "metadata": {},
   "outputs": [
    {
     "name": "stderr",
     "output_type": "stream",
     "text": [
      "/home/student/miniconda3/envs/mds12/lib/python3.10/site-packages/torch/nn/functional.py:3782: UserWarning: nn.functional.upsample is deprecated. Use nn.functional.interpolate instead.\n",
      "  warnings.warn(\"nn.functional.upsample is deprecated. Use nn.functional.interpolate instead.\")\n"
     ]
    },
    {
     "name": "stdout",
     "output_type": "stream",
     "text": [
      "tensor(0.1435, device='cuda:0', grad_fn=<AddBackward0>)\n",
      "tensor(0.0761, device='cuda:0', grad_fn=<AddBackward0>)\n",
      "tensor(0.0588, device='cuda:0', grad_fn=<AddBackward0>)\n",
      "tensor(0.0689, device='cuda:0', grad_fn=<AddBackward0>)\n",
      "tensor(0.0538, device='cuda:0', grad_fn=<AddBackward0>)\n",
      "tensor(0.0680, device='cuda:0', grad_fn=<AddBackward0>)\n",
      "tensor(0.0507, device='cuda:0', grad_fn=<AddBackward0>)\n",
      "tensor(0.0630, device='cuda:0', grad_fn=<AddBackward0>)\n",
      "tensor(0.0652, device='cuda:0', grad_fn=<AddBackward0>)\n",
      "tensor(0.0698, device='cuda:0', grad_fn=<AddBackward0>)\n",
      "tensor(0.0529, device='cuda:0', grad_fn=<AddBackward0>)\n",
      "tensor(0.0448, device='cuda:0', grad_fn=<AddBackward0>)\n",
      "tensor(0.0604, device='cuda:0', grad_fn=<AddBackward0>)\n",
      "tensor(0.0252, device='cuda:0', grad_fn=<AddBackward0>)\n",
      "tensor(0.0335, device='cuda:0', grad_fn=<AddBackward0>)\n",
      "tensor(0.0596, device='cuda:0', grad_fn=<AddBackward0>)\n",
      "tensor(0.0560, device='cuda:0', grad_fn=<AddBackward0>)\n",
      "tensor(0.0446, device='cuda:0', grad_fn=<AddBackward0>)\n",
      "tensor(0.0392, device='cuda:0', grad_fn=<AddBackward0>)\n",
      "tensor(0.0490, device='cuda:0', grad_fn=<AddBackward0>)\n",
      "tensor(0.0445, device='cuda:0', grad_fn=<AddBackward0>)\n",
      "tensor(0.0593, device='cuda:0', grad_fn=<AddBackward0>)\n"
     ]
    }
   ],
   "source": [
    "train(dataset, \"/home/student/Documents/MDS12/sho/final_year_project/src/toenet/checkpoint/\")"
   ]
  },
  {
   "cell_type": "code",
   "execution_count": null,
   "metadata": {},
   "outputs": [],
   "source": [
    "torch.cuda.empty_cache()"
   ]
  }
 ],
 "metadata": {
  "kernelspec": {
   "display_name": "fyp",
   "language": "python",
   "name": "python3"
  },
  "language_info": {
   "codemirror_mode": {
    "name": "ipython",
    "version": 3
   },
   "file_extension": ".py",
   "mimetype": "text/x-python",
   "name": "python",
   "nbconvert_exporter": "python",
   "pygments_lexer": "ipython3",
   "version": "3.10.0"
  }
 },
 "nbformat": 4,
 "nbformat_minor": 2
}
