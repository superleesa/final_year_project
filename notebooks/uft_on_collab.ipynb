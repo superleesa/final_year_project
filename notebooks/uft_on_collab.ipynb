{
 "nbformat": 4,
 "nbformat_minor": 0,
 "metadata": {
  "colab": {
   "provenance": [],
   "gpuType": "T4"
  },
  "kernelspec": {
   "name": "python3",
   "language": "python",
   "display_name": "Python 3 (ipykernel)"
  },
  "language_info": {
   "name": "python"
  },
  "accelerator": "GPU"
 },
 "cells": [
  {
   "cell_type": "markdown",
   "source": [
    "# UFT & Evaluate on Collab"
   ],
   "metadata": {
    "collapsed": false
   }
  },
  {
   "cell_type": "markdown",
   "source": [
    "## Preparation"
   ],
   "metadata": {
    "collapsed": false
   }
  },
  {
   "cell_type": "code",
   "outputs": [],
   "source": [
    "from google.colab import drive\n",
    "drive.mount('/content/drive')"
   ],
   "metadata": {
    "id": "HFUKrOQ1nZ_L"
   },
   "execution_count": 0
  },
  {
   "cell_type": "code",
   "execution_count": null,
   "metadata": {
    "colab": {
     "base_uri": "https://localhost:8080/"
    },
    "id": "V3peJi0IgUfX",
    "outputId": "8b63a65f-5e2e-43ed-b77b-0fec85249ecd"
   },
   "outputs": [],
   "source": [
    "!git clone https://github.com/superleesa/final_year_project.git\n",
    "%cd final_year_project\n",
    "# !git checkout main\n",
    "!pip install -r requirements.txt"
   ]
  },
  {
   "cell_type": "code",
   "outputs": [],
   "source": [
    "# for some reason, torchvision is not installed by the requirements.txt\n",
    "!pip install torchvision"
   ],
   "metadata": {
    "collapsed": false
   }
  },
  {
   "cell_type": "markdown",
   "source": [
    "## Train"
   ],
   "metadata": {
    "collapsed": false
   }
  },
  {
   "cell_type": "markdown",
   "source": [
    "Note: you must have FYP directory in MyDrive"
   ],
   "metadata": {
    "collapsed": false
   }
  },
  {
   "cell_type": "code",
   "outputs": [],
   "source": [
    "%cd train/uft"
   ],
   "metadata": {
    "id": "mUYdtv3xi1Zq"
   },
   "execution_count": 0
  },
  {
   "cell_type": "code",
   "source": [
    "!python unpaired_train.py \"/content/drive/MyDrive/FYP/Sem 2/4. Execution/official_data_dir/unpaired/\" \"/content/final_year_project/src/toenet/checkpoint/checkpoint.pth.tar\" \"/content/final_year_project/Data\""
   ],
   "metadata": {
    "colab": {
     "base_uri": "https://localhost:8080/"
    },
    "id": "0vv3SE8Xg7ni",
    "outputId": "7d0bec0c-01cf-425e-e798-d41d275650b8"
   },
   "execution_count": null,
   "outputs": []
  },
  {
   "cell_type": "markdown",
   "source": [
    "## Evaluate"
   ],
   "metadata": {
    "collapsed": false
   }
  },
  {
   "cell_type": "code",
   "outputs": [],
   "source": [
    "%cd ../../evaluation"
   ],
   "metadata": {
    "collapsed": false
   }
  },
  {
   "cell_type": "markdown",
   "source": [
    "Specify the checkpoint path created by the training above:"
   ],
   "metadata": {
    "collapsed": false
   }
  },
  {
   "cell_type": "code",
   "outputs": [],
   "source": [
    "checkpoint_path = \"/content/final_year_project/src/............\""
   ],
   "metadata": {
    "collapsed": false
   }
  },
  {
   "cell_type": "code",
   "outputs": [],
   "source": [
    "!python evaluation.py \"/content/drive/MyDrive/FYP/Sem 2/4. Execution/official_data_dir/paired/\" $checkpoint_path \"/content/final_year_project/Data\""
   ],
   "metadata": {
    "collapsed": false
   }
  }
 ]
}
